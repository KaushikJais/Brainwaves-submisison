{
 "cells": [
  {
   "cell_type": "code",
   "execution_count": 1,
   "metadata": {},
   "outputs": [
    {
     "name": "stderr",
     "output_type": "stream",
     "text": [
      "[nltk_data] Downloading package stopwords to /home/sanjit/nltk_data...\n",
      "[nltk_data]   Package stopwords is already up-to-date!\n",
      "[nltk_data] Downloading package wordnet to /home/sanjit/nltk_data...\n",
      "[nltk_data]   Package wordnet is already up-to-date!\n"
     ]
    }
   ],
   "source": [
    "import numpy as np\n",
    "import pandas as pd\n",
    "import nltk\n",
    "from nltk.corpus import stopwords\n",
    "nltk.download('stopwords')\n",
    "nltk.download('wordnet')\n",
    "from textblob import Word\n",
    "from sklearn.feature_extraction.text import TfidfVectorizer\n",
    "from sklearn.cluster import KMeans\n",
    "from sklearn.metrics import adjusted_rand_score"
   ]
  },
  {
   "cell_type": "code",
   "execution_count": 81,
   "metadata": {},
   "outputs": [
    {
     "data": {
      "text/html": [
       "<div>\n",
       "<style scoped>\n",
       "    .dataframe tbody tr th:only-of-type {\n",
       "        vertical-align: middle;\n",
       "    }\n",
       "\n",
       "    .dataframe tbody tr th {\n",
       "        vertical-align: top;\n",
       "    }\n",
       "\n",
       "    .dataframe thead th {\n",
       "        text-align: right;\n",
       "    }\n",
       "</style>\n",
       "<table border=\"1\" class=\"dataframe\">\n",
       "  <thead>\n",
       "    <tr style=\"text-align: right;\">\n",
       "      <th></th>\n",
       "      <th>Complaint-ID</th>\n",
       "      <th>Date-received</th>\n",
       "      <th>Transaction-Type</th>\n",
       "      <th>Complaint-reason</th>\n",
       "      <th>Company-response</th>\n",
       "      <th>Date-sent-to-company</th>\n",
       "      <th>Complaint-Status</th>\n",
       "      <th>Consumer-disputes</th>\n",
       "      <th>Consumer-complaint-summary</th>\n",
       "    </tr>\n",
       "  </thead>\n",
       "  <tbody>\n",
       "    <tr>\n",
       "      <th>0</th>\n",
       "      <td>Tr-1</td>\n",
       "      <td>11/11/2015</td>\n",
       "      <td>Mortgage</td>\n",
       "      <td>Loan servicing, payments, escrow account</td>\n",
       "      <td>NaN</td>\n",
       "      <td>11/11/2015</td>\n",
       "      <td>Closed with explanation</td>\n",
       "      <td>Yes</td>\n",
       "      <td>Seterus, Inc a déposé un faux rapport auprès d...</td>\n",
       "    </tr>\n",
       "    <tr>\n",
       "      <th>1</th>\n",
       "      <td>Tr-2</td>\n",
       "      <td>7/7/2015</td>\n",
       "      <td>Credit reporting</td>\n",
       "      <td>Incorrect information on credit report</td>\n",
       "      <td>Company chooses not to provide a public response</td>\n",
       "      <td>7/7/2015</td>\n",
       "      <td>Closed with non-monetary relief</td>\n",
       "      <td>No</td>\n",
       "      <td>XX / XX / XXXX La requête en faillite n ° XXXX...</td>\n",
       "    </tr>\n",
       "    <tr>\n",
       "      <th>2</th>\n",
       "      <td>Tr-3</td>\n",
       "      <td>5/7/2015</td>\n",
       "      <td>Bank account or service</td>\n",
       "      <td>Using a debit or ATM card</td>\n",
       "      <td>NaN</td>\n",
       "      <td>5/7/2015</td>\n",
       "      <td>Closed with explanation</td>\n",
       "      <td>No</td>\n",
       "      <td>El XXXX / XXXX / 15, estaba preparando el vuel...</td>\n",
       "    </tr>\n",
       "    <tr>\n",
       "      <th>3</th>\n",
       "      <td>Tr-4</td>\n",
       "      <td>11/12/2016</td>\n",
       "      <td>Debt collection</td>\n",
       "      <td>Cont'd attempts collect debt not owed</td>\n",
       "      <td>Company believes it acted appropriately as aut...</td>\n",
       "      <td>11/12/2016</td>\n",
       "      <td>Closed with explanation</td>\n",
       "      <td>No</td>\n",
       "      <td>The loan was paid in XXXX XXXX. In XXXX, 4 yea...</td>\n",
       "    </tr>\n",
       "    <tr>\n",
       "      <th>4</th>\n",
       "      <td>Tr-5</td>\n",
       "      <td>9/29/2016</td>\n",
       "      <td>Credit card</td>\n",
       "      <td>Payoff process</td>\n",
       "      <td>Company has responded to the consumer and the ...</td>\n",
       "      <td>9/29/2016</td>\n",
       "      <td>Closed with explanation</td>\n",
       "      <td>No</td>\n",
       "      <td>J'ai obtenu un compte de crédit de soins pour ...</td>\n",
       "    </tr>\n",
       "  </tbody>\n",
       "</table>\n",
       "</div>"
      ],
      "text/plain": [
       "  Complaint-ID Date-received         Transaction-Type  \\\n",
       "0         Tr-1    11/11/2015                 Mortgage   \n",
       "1         Tr-2      7/7/2015         Credit reporting   \n",
       "2         Tr-3      5/7/2015  Bank account or service   \n",
       "3         Tr-4    11/12/2016          Debt collection   \n",
       "4         Tr-5     9/29/2016              Credit card   \n",
       "\n",
       "                           Complaint-reason  \\\n",
       "0  Loan servicing, payments, escrow account   \n",
       "1    Incorrect information on credit report   \n",
       "2                 Using a debit or ATM card   \n",
       "3     Cont'd attempts collect debt not owed   \n",
       "4                            Payoff process   \n",
       "\n",
       "                                    Company-response Date-sent-to-company  \\\n",
       "0                                                NaN           11/11/2015   \n",
       "1   Company chooses not to provide a public response             7/7/2015   \n",
       "2                                                NaN             5/7/2015   \n",
       "3  Company believes it acted appropriately as aut...           11/12/2016   \n",
       "4  Company has responded to the consumer and the ...            9/29/2016   \n",
       "\n",
       "                  Complaint-Status Consumer-disputes  \\\n",
       "0          Closed with explanation               Yes   \n",
       "1  Closed with non-monetary relief                No   \n",
       "2          Closed with explanation                No   \n",
       "3          Closed with explanation                No   \n",
       "4          Closed with explanation                No   \n",
       "\n",
       "                          Consumer-complaint-summary  \n",
       "0  Seterus, Inc a déposé un faux rapport auprès d...  \n",
       "1  XX / XX / XXXX La requête en faillite n ° XXXX...  \n",
       "2  El XXXX / XXXX / 15, estaba preparando el vuel...  \n",
       "3  The loan was paid in XXXX XXXX. In XXXX, 4 yea...  \n",
       "4  J'ai obtenu un compte de crédit de soins pour ...  "
      ]
     },
     "execution_count": 81,
     "metadata": {},
     "output_type": "execute_result"
    }
   ],
   "source": [
    "data = pd.read_csv('train.csv')\n",
    "data.head()"
   ]
  },
  {
   "cell_type": "code",
   "execution_count": null,
   "metadata": {},
   "outputs": [],
   "source": []
  },
  {
   "cell_type": "code",
   "execution_count": 82,
   "metadata": {},
   "outputs": [
    {
     "name": "stderr",
     "output_type": "stream",
     "text": [
      "/usr/local/lib/python3.6/dist-packages/ipykernel_launcher.py:10: SettingWithCopyWarning: \n",
      "A value is trying to be set on a copy of a slice from a DataFrame\n",
      "\n",
      "See the caveats in the documentation: http://pandas.pydata.org/pandas-docs/stable/indexing.html#indexing-view-versus-copy\n",
      "  # Remove the CWD from sys.path while we load stuff.\n",
      "/usr/local/lib/python3.6/dist-packages/ipykernel_launcher.py:11: SettingWithCopyWarning: \n",
      "A value is trying to be set on a copy of a slice from a DataFrame\n",
      "\n",
      "See the caveats in the documentation: http://pandas.pydata.org/pandas-docs/stable/indexing.html#indexing-view-versus-copy\n",
      "  # This is added back by InteractiveShellApp.init_path()\n",
      "/usr/local/lib/python3.6/dist-packages/ipykernel_launcher.py:12: SettingWithCopyWarning: \n",
      "A value is trying to be set on a copy of a slice from a DataFrame\n",
      "\n",
      "See the caveats in the documentation: http://pandas.pydata.org/pandas-docs/stable/indexing.html#indexing-view-versus-copy\n",
      "  if sys.path[0] == '':\n",
      "/usr/local/lib/python3.6/dist-packages/ipykernel_launcher.py:13: SettingWithCopyWarning: \n",
      "A value is trying to be set on a copy of a slice from a DataFrame\n",
      "\n",
      "See the caveats in the documentation: http://pandas.pydata.org/pandas-docs/stable/indexing.html#indexing-view-versus-copy\n",
      "  del sys.path[0]\n",
      "/usr/local/lib/python3.6/dist-packages/ipykernel_launcher.py:14: SettingWithCopyWarning: \n",
      "A value is trying to be set on a copy of a slice from a DataFrame\n",
      "\n",
      "See the caveats in the documentation: http://pandas.pydata.org/pandas-docs/stable/indexing.html#indexing-view-versus-copy\n",
      "  \n"
     ]
    }
   ],
   "source": [
    "# Drop unnecessary columns\n",
    "data.drop(['Date-received','Date-sent-to-company','Complaint-ID'],axis=1,inplace=True)\n",
    "\n",
    "# # change to 1, 0, -1\n",
    "data['Consumer-disputes'][data['Consumer-disputes'] == \"Yes\"] = 1\n",
    "data['Consumer-disputes'][data['Consumer-disputes'] == \"No\"] = -1\n",
    "data['Consumer-disputes'].fillna(0,inplace=True)\n",
    "\n",
    "# Convert to target variable\n",
    "data['Complaint-Status'][data['Complaint-Status'] == 'Closed with explanation'] = 5\n",
    "data['Complaint-Status'][data['Complaint-Status'] == 'Closed with non-monetary relief'] = 4\n",
    "data['Complaint-Status'][data['Complaint-Status'] == 'Closed with monetary relief'] = 3 \n",
    "data['Complaint-Status'][data['Complaint-Status'] == 'Closed'] = 2\n",
    "data['Complaint-Status'][data['Complaint-Status'] == 'Untimely response'] = 1 \n",
    "\n",
    "# Fill na \n",
    "data['Company-response'].fillna('No response',inplace=True)\n",
    "\n"
   ]
  },
  {
   "cell_type": "code",
   "execution_count": null,
   "metadata": {},
   "outputs": [],
   "source": []
  },
  {
   "cell_type": "code",
   "execution_count": 83,
   "metadata": {},
   "outputs": [],
   "source": [
    "# preprocessing of headline and text column\n",
    "preprocess = ['Company-response']\n",
    "stop = stopwords.words('english')\n",
    "for column in preprocess:\n",
    "    # to lowercase\n",
    "    data[column] = data[column].apply(lambda x: \" \".join(x.lower() for x in x.split()))\n",
    "    # remove punctuation\n",
    "    data[column] = data[column].str.replace('[^\\w\\s]','')\n",
    "    # remove stop words\n",
    "    data[column] = data[column].apply(lambda x: \" \".join(x for x in x.split() if x not in stop))"
   ]
  },
  {
   "cell_type": "code",
   "execution_count": 105,
   "metadata": {},
   "outputs": [],
   "source": [
    "data = pd.get_dummies(data,columns=['Transaction-Type','Company-response'],prefix=['tt','cr'])\n",
    "\n",
    "#summary = pd.read_csv('pre_model.csv')\n",
    "#data['Consumer-complaint-summary'] = summary['Consumer-complaint-summary']"
   ]
  },
  {
   "cell_type": "code",
   "execution_count": 106,
   "metadata": {},
   "outputs": [
    {
     "data": {
      "text/html": [
       "<div>\n",
       "<style scoped>\n",
       "    .dataframe tbody tr th:only-of-type {\n",
       "        vertical-align: middle;\n",
       "    }\n",
       "\n",
       "    .dataframe tbody tr th {\n",
       "        vertical-align: top;\n",
       "    }\n",
       "\n",
       "    .dataframe thead th {\n",
       "        text-align: right;\n",
       "    }\n",
       "</style>\n",
       "<table border=\"1\" class=\"dataframe\">\n",
       "  <thead>\n",
       "    <tr style=\"text-align: right;\">\n",
       "      <th></th>\n",
       "      <th>Complaint-reason</th>\n",
       "      <th>Complaint-Status</th>\n",
       "      <th>Consumer-disputes</th>\n",
       "      <th>Consumer-complaint-summary</th>\n",
       "      <th>tt_Bank account or service</th>\n",
       "      <th>tt_Checking or savings account</th>\n",
       "      <th>tt_Consumer Loan</th>\n",
       "      <th>tt_Credit card</th>\n",
       "      <th>tt_Credit card or prepaid card</th>\n",
       "      <th>tt_Credit reporting</th>\n",
       "      <th>...</th>\n",
       "      <th>cr_company believes complaint caused principally actions third party outside control direction company</th>\n",
       "      <th>cr_company believes complaint relates discontinued policy procedure</th>\n",
       "      <th>cr_company believes complaint represents opportunity improvement better serve consumers</th>\n",
       "      <th>cr_company believes complaint result isolated error</th>\n",
       "      <th>cr_company believes complaint result misunderstanding</th>\n",
       "      <th>cr_company cant verify dispute facts complaint</th>\n",
       "      <th>cr_company chooses provide public response</th>\n",
       "      <th>cr_company disputes facts presented complaint</th>\n",
       "      <th>cr_company responded consumer cfpb chooses provide public response</th>\n",
       "      <th>cr_response</th>\n",
       "    </tr>\n",
       "  </thead>\n",
       "  <tbody>\n",
       "    <tr>\n",
       "      <th>0</th>\n",
       "      <td>Loan servicing, payments, escrow account</td>\n",
       "      <td>5</td>\n",
       "      <td>1</td>\n",
       "      <td>5.0</td>\n",
       "      <td>0</td>\n",
       "      <td>0</td>\n",
       "      <td>0</td>\n",
       "      <td>0</td>\n",
       "      <td>0</td>\n",
       "      <td>0</td>\n",
       "      <td>...</td>\n",
       "      <td>0</td>\n",
       "      <td>0</td>\n",
       "      <td>0</td>\n",
       "      <td>0</td>\n",
       "      <td>0</td>\n",
       "      <td>0</td>\n",
       "      <td>0</td>\n",
       "      <td>0</td>\n",
       "      <td>0</td>\n",
       "      <td>1</td>\n",
       "    </tr>\n",
       "    <tr>\n",
       "      <th>1</th>\n",
       "      <td>Incorrect information on credit report</td>\n",
       "      <td>4</td>\n",
       "      <td>-1</td>\n",
       "      <td>5.0</td>\n",
       "      <td>0</td>\n",
       "      <td>0</td>\n",
       "      <td>0</td>\n",
       "      <td>0</td>\n",
       "      <td>0</td>\n",
       "      <td>1</td>\n",
       "      <td>...</td>\n",
       "      <td>0</td>\n",
       "      <td>0</td>\n",
       "      <td>0</td>\n",
       "      <td>0</td>\n",
       "      <td>0</td>\n",
       "      <td>0</td>\n",
       "      <td>1</td>\n",
       "      <td>0</td>\n",
       "      <td>0</td>\n",
       "      <td>0</td>\n",
       "    </tr>\n",
       "    <tr>\n",
       "      <th>2</th>\n",
       "      <td>Using a debit or ATM card</td>\n",
       "      <td>5</td>\n",
       "      <td>-1</td>\n",
       "      <td>5.0</td>\n",
       "      <td>1</td>\n",
       "      <td>0</td>\n",
       "      <td>0</td>\n",
       "      <td>0</td>\n",
       "      <td>0</td>\n",
       "      <td>0</td>\n",
       "      <td>...</td>\n",
       "      <td>0</td>\n",
       "      <td>0</td>\n",
       "      <td>0</td>\n",
       "      <td>0</td>\n",
       "      <td>0</td>\n",
       "      <td>0</td>\n",
       "      <td>0</td>\n",
       "      <td>0</td>\n",
       "      <td>0</td>\n",
       "      <td>1</td>\n",
       "    </tr>\n",
       "    <tr>\n",
       "      <th>3</th>\n",
       "      <td>Cont'd attempts collect debt not owed</td>\n",
       "      <td>5</td>\n",
       "      <td>-1</td>\n",
       "      <td>5.0</td>\n",
       "      <td>0</td>\n",
       "      <td>0</td>\n",
       "      <td>0</td>\n",
       "      <td>0</td>\n",
       "      <td>0</td>\n",
       "      <td>0</td>\n",
       "      <td>...</td>\n",
       "      <td>0</td>\n",
       "      <td>0</td>\n",
       "      <td>0</td>\n",
       "      <td>0</td>\n",
       "      <td>0</td>\n",
       "      <td>0</td>\n",
       "      <td>0</td>\n",
       "      <td>0</td>\n",
       "      <td>0</td>\n",
       "      <td>0</td>\n",
       "    </tr>\n",
       "    <tr>\n",
       "      <th>4</th>\n",
       "      <td>Payoff process</td>\n",
       "      <td>5</td>\n",
       "      <td>-1</td>\n",
       "      <td>5.0</td>\n",
       "      <td>0</td>\n",
       "      <td>0</td>\n",
       "      <td>0</td>\n",
       "      <td>1</td>\n",
       "      <td>0</td>\n",
       "      <td>0</td>\n",
       "      <td>...</td>\n",
       "      <td>0</td>\n",
       "      <td>0</td>\n",
       "      <td>0</td>\n",
       "      <td>0</td>\n",
       "      <td>0</td>\n",
       "      <td>0</td>\n",
       "      <td>0</td>\n",
       "      <td>0</td>\n",
       "      <td>1</td>\n",
       "      <td>0</td>\n",
       "    </tr>\n",
       "  </tbody>\n",
       "</table>\n",
       "<p>5 rows × 33 columns</p>\n",
       "</div>"
      ],
      "text/plain": [
       "                           Complaint-reason Complaint-Status  \\\n",
       "0  Loan servicing, payments, escrow account                5   \n",
       "1    Incorrect information on credit report                4   \n",
       "2                 Using a debit or ATM card                5   \n",
       "3     Cont'd attempts collect debt not owed                5   \n",
       "4                            Payoff process                5   \n",
       "\n",
       "   Consumer-disputes  Consumer-complaint-summary  tt_Bank account or service  \\\n",
       "0                  1                         5.0                           0   \n",
       "1                 -1                         5.0                           0   \n",
       "2                 -1                         5.0                           1   \n",
       "3                 -1                         5.0                           0   \n",
       "4                 -1                         5.0                           0   \n",
       "\n",
       "   tt_Checking or savings account  tt_Consumer Loan  tt_Credit card  \\\n",
       "0                               0                 0               0   \n",
       "1                               0                 0               0   \n",
       "2                               0                 0               0   \n",
       "3                               0                 0               0   \n",
       "4                               0                 0               1   \n",
       "\n",
       "   tt_Credit card or prepaid card  tt_Credit reporting     ...       \\\n",
       "0                               0                    0     ...        \n",
       "1                               0                    1     ...        \n",
       "2                               0                    0     ...        \n",
       "3                               0                    0     ...        \n",
       "4                               0                    0     ...        \n",
       "\n",
       "   cr_company believes complaint caused principally actions third party outside control direction company  \\\n",
       "0                                                  0                                                        \n",
       "1                                                  0                                                        \n",
       "2                                                  0                                                        \n",
       "3                                                  0                                                        \n",
       "4                                                  0                                                        \n",
       "\n",
       "   cr_company believes complaint relates discontinued policy procedure  \\\n",
       "0                                                  0                     \n",
       "1                                                  0                     \n",
       "2                                                  0                     \n",
       "3                                                  0                     \n",
       "4                                                  0                     \n",
       "\n",
       "   cr_company believes complaint represents opportunity improvement better serve consumers  \\\n",
       "0                                                  0                                         \n",
       "1                                                  0                                         \n",
       "2                                                  0                                         \n",
       "3                                                  0                                         \n",
       "4                                                  0                                         \n",
       "\n",
       "   cr_company believes complaint result isolated error  \\\n",
       "0                                                  0     \n",
       "1                                                  0     \n",
       "2                                                  0     \n",
       "3                                                  0     \n",
       "4                                                  0     \n",
       "\n",
       "   cr_company believes complaint result misunderstanding  \\\n",
       "0                                                  0       \n",
       "1                                                  0       \n",
       "2                                                  0       \n",
       "3                                                  0       \n",
       "4                                                  0       \n",
       "\n",
       "   cr_company cant verify dispute facts complaint  \\\n",
       "0                                               0   \n",
       "1                                               0   \n",
       "2                                               0   \n",
       "3                                               0   \n",
       "4                                               0   \n",
       "\n",
       "   cr_company chooses provide public response  \\\n",
       "0                                           0   \n",
       "1                                           1   \n",
       "2                                           0   \n",
       "3                                           0   \n",
       "4                                           0   \n",
       "\n",
       "   cr_company disputes facts presented complaint  \\\n",
       "0                                              0   \n",
       "1                                              0   \n",
       "2                                              0   \n",
       "3                                              0   \n",
       "4                                              0   \n",
       "\n",
       "   cr_company responded consumer cfpb chooses provide public response  \\\n",
       "0                                                  0                    \n",
       "1                                                  0                    \n",
       "2                                                  0                    \n",
       "3                                                  0                    \n",
       "4                                                  1                    \n",
       "\n",
       "   cr_response  \n",
       "0            1  \n",
       "1            0  \n",
       "2            1  \n",
       "3            0  \n",
       "4            0  \n",
       "\n",
       "[5 rows x 33 columns]"
      ]
     },
     "execution_count": 106,
     "metadata": {},
     "output_type": "execute_result"
    }
   ],
   "source": [
    "data.head()"
   ]
  },
  {
   "cell_type": "code",
   "execution_count": 107,
   "metadata": {},
   "outputs": [],
   "source": [
    "vectorizer_cr,vectorizer_cc = TfidfVectorizer(),TfidfVectorizer()\n",
    "\n",
    "vectorizer_cr.fit(data['Complaint-reason'])\n",
    "\n",
    "vector_cr = vectorizer_cr.transform(data['Complaint-reason']).toarray()"
   ]
  },
  {
   "cell_type": "code",
   "execution_count": 108,
   "metadata": {},
   "outputs": [
    {
     "data": {
      "text/plain": [
       "(43266, 232)"
      ]
     },
     "execution_count": 108,
     "metadata": {},
     "output_type": "execute_result"
    }
   ],
   "source": [
    "(vector_cr.shape)"
   ]
  },
  {
   "cell_type": "code",
   "execution_count": 124,
   "metadata": {},
   "outputs": [],
   "source": [
    "from sklearn.decomposition import PCA\n",
    "pca = PCA(n_components=5)\n",
    "pricipal_components = pca.fit_transform(vector)"
   ]
  },
  {
   "cell_type": "code",
   "execution_count": 125,
   "metadata": {},
   "outputs": [
    {
     "data": {
      "text/plain": [
       "array([0.12858048, 0.09953065, 0.06950048, 0.05637348, 0.04469476])"
      ]
     },
     "execution_count": 125,
     "metadata": {},
     "output_type": "execute_result"
    }
   ],
   "source": [
    "pca.explained_variance_ratio_"
   ]
  },
  {
   "cell_type": "code",
   "execution_count": 134,
   "metadata": {},
   "outputs": [],
   "source": [
    "data['Complaint-reason'] = pricipal_components[:,1]"
   ]
  },
  {
   "cell_type": "code",
   "execution_count": 141,
   "metadata": {},
   "outputs": [
    {
     "data": {
      "text/plain": [
       "Complaint-reason                                                                                          False\n",
       "Complaint-Status                                                                                          False\n",
       "Consumer-disputes                                                                                         False\n",
       "Consumer-complaint-summary                                                                                 True\n",
       "tt_Bank account or service                                                                                False\n",
       "tt_Checking or savings account                                                                            False\n",
       "tt_Consumer Loan                                                                                          False\n",
       "tt_Credit card                                                                                            False\n",
       "tt_Credit card or prepaid card                                                                            False\n",
       "tt_Credit reporting                                                                                       False\n",
       "tt_Credit reporting, credit repair services, or other personal consumer reports                           False\n",
       "tt_Debt collection                                                                                        False\n",
       "tt_Money transfer, virtual currency, or money service                                                     False\n",
       "tt_Money transfers                                                                                        False\n",
       "tt_Mortgage                                                                                               False\n",
       "tt_Other financial service                                                                                False\n",
       "tt_Payday loan                                                                                            False\n",
       "tt_Payday loan, title loan, or personal loan                                                              False\n",
       "tt_Prepaid card                                                                                           False\n",
       "tt_Student loan                                                                                           False\n",
       "tt_Vehicle loan or lease                                                                                  False\n",
       "tt_Virtual currency                                                                                       False\n",
       "cr_company believes acted appropriately authorized contract law                                           False\n",
       "cr_company believes complaint caused principally actions third party outside control direction company    False\n",
       "cr_company believes complaint relates discontinued policy procedure                                       False\n",
       "cr_company believes complaint represents opportunity improvement better serve consumers                   False\n",
       "cr_company believes complaint result isolated error                                                       False\n",
       "cr_company believes complaint result misunderstanding                                                     False\n",
       "cr_company cant verify dispute facts complaint                                                            False\n",
       "cr_company chooses provide public response                                                                False\n",
       "cr_company disputes facts presented complaint                                                             False\n",
       "cr_company responded consumer cfpb chooses provide public response                                        False\n",
       "cr_response                                                                                               False\n",
       "dtype: bool"
      ]
     },
     "execution_count": 141,
     "metadata": {},
     "output_type": "execute_result"
    }
   ],
   "source": [
    "data.isna().any()"
   ]
  },
  {
   "cell_type": "code",
   "execution_count": 136,
   "metadata": {},
   "outputs": [],
   "source": [
    "X = data.drop(['Complaint-Status'], axis=1)\n",
    "y = data['Complaint-Status']"
   ]
  },
  {
   "cell_type": "code",
   "execution_count": 146,
   "metadata": {},
   "outputs": [],
   "source": [
    "X.drop(['Consumer-complaint-summary'], axis=1,inplace=True)"
   ]
  },
  {
   "cell_type": "code",
   "execution_count": 159,
   "metadata": {},
   "outputs": [],
   "source": [
    "y=y.astype('float')\n",
    "X=X.astype('float')"
   ]
  },
  {
   "cell_type": "code",
   "execution_count": 164,
   "metadata": {},
   "outputs": [
    {
     "name": "stdout",
     "output_type": "stream",
     "text": [
      "LR Accuracy: 0.7930662557781202\n",
      "SVM Accuracy: 0.7932203389830509\n",
      "KNN Accuracy: 0.763482280431433\n",
      "RF Accuracy: 0.7938366718027735\n"
     ]
    }
   ],
   "source": [
    "# classifiers\n",
    "from sklearn import metrics\n",
    "from sklearn.model_selection import train_test_split\n",
    "\n",
    "x_train, x_test, y_train, y_test = train_test_split(X, y, test_size=0.3, random_state=0)\n",
    "\n",
    "# Logistic Regression\n",
    "from sklearn.linear_model import LogisticRegression\n",
    "logisticRegr = LogisticRegression()\n",
    "logisticRegr.fit(x_train, y_train)\n",
    "\n",
    "lr_pred = logisticRegr.predict(x_test)\n",
    "lr_score = logisticRegr.score(x_test, y_test)\n",
    "print(\"LR Accuracy:\",metrics.accuracy_score(y_test, lr_pred))\n",
    "\n",
    "# SVM\n",
    "from sklearn import svm\n",
    "svm_clf = svm.SVC(kernel='linear')\n",
    "svm_clf.fit(x_train, y_train)\n",
    "svm_pred = svm_clf.predict(x_test)\n",
    "print(\"SVM Accuracy:\",metrics.accuracy_score(y_test,svm_pred))\n",
    "\n",
    "\n",
    "# KNN \n",
    "from sklearn.neighbors import KNeighborsClassifier\n",
    "knn_model = KNeighborsClassifier(n_neighbors=5)\n",
    "knn_model.fit(x_train,y_train)\n",
    "knn_pred = knn_model.predict(x_test)\n",
    "print(\"KNN Accuracy:\",metrics.accuracy_score(y_test, knn_pred))\n",
    "\n",
    "# RF\n",
    "from sklearn.ensemble import RandomForestClassifier\n",
    "rf=RandomForestClassifier(n_estimators=100)\n",
    "rf.fit(x_train,y_train)\n",
    "rf_pred=rf.predict(x_test)\n",
    "print(\"RF Accuracy:\",metrics.accuracy_score(y_test, rf_pred))\n"
   ]
  },
  {
   "cell_type": "code",
   "execution_count": 199,
   "metadata": {},
   "outputs": [
    {
     "name": "stdout",
     "output_type": "stream",
     "text": [
      "XGB Accuracy: 0.7932203389830509\n"
     ]
    },
    {
     "name": "stderr",
     "output_type": "stream",
     "text": [
      "/usr/local/lib/python3.6/dist-packages/sklearn/preprocessing/label.py:151: DeprecationWarning: The truth value of an empty array is ambiguous. Returning False, but in future this will result in an error. Use `array.size > 0` to check that an array is not empty.\n",
      "  if diff:\n"
     ]
    }
   ],
   "source": [
    "from xgboost import XGBClassifier\n",
    "xgb=XGBClassifier()\n",
    "xgb.fit(x_train,y_train)\n",
    "xgb_pred=xgb.predict(x_test)\n",
    "print(\"XGB Accuracy:\",metrics.accuracy_score(y_test, xgb_pred))"
   ]
  },
  {
   "cell_type": "code",
   "execution_count": 161,
   "metadata": {},
   "outputs": [
    {
     "data": {
      "text/plain": [
       "array([0.13487409, 0.10137167, 0.06866147, 0.0529592 , 0.0435069 ])"
      ]
     },
     "execution_count": 161,
     "metadata": {},
     "output_type": "execute_result"
    }
   ],
   "source": [
    "test_data = pd.read_csv('test.csv')\n",
    "\n",
    "# Drop unnecessary columns\n",
    "test_data.drop(['Date-received','Date-sent-to-company','Complaint-ID'],axis=1,inplace=True)\n",
    "\n",
    "# # change to 1, 0, -1\n",
    "test_data['Consumer-disputes'][test_data['Consumer-disputes'] == \"Yes\"] = 1\n",
    "test_data['Consumer-disputes'][test_data['Consumer-disputes'] == \"No\"] = -1\n",
    "test_data['Consumer-disputes'].fillna(0,inplace=True)\n",
    "\n",
    "\n",
    "# Fill na \n",
    "test_data['Company-response'].fillna('No response',inplace=True)\n",
    "\n",
    "# preprocessing of headline and text column\n",
    "preprocess = ['Company-response']\n",
    "stop = stopwords.words('english')\n",
    "for column in preprocess:\n",
    "    # to lowercase\n",
    "    test_data[column] = test_data[column].apply(lambda x: \" \".join(x.lower() for x in x.split()))\n",
    "    # remove punctuation\n",
    "    test_data[column] = test_data[column].str.replace('[^\\w\\s]','')\n",
    "    # remove stop words\n",
    "    test_data[column] = test_data[column].apply(lambda x: \" \".join(x for x in x.split() if x not in stop))\n",
    "\n",
    "test_data = pd.get_dummies(test_data,columns=['Transaction-Type','Company-response'],prefix=['tt','cr'])\n",
    "\n",
    "vector_cr = vectorizer_cr.transform(test_data['Complaint-reason']).toarray()\n",
    "\n",
    "from sklearn.decomposition import PCA\n",
    "pca = PCA(n_components=5)\n",
    "pricipal_components = pca.fit_transform(vector_cr)\n",
    "pca.explained_variance_ratio_\n"
   ]
  },
  {
   "cell_type": "code",
   "execution_count": 162,
   "metadata": {},
   "outputs": [],
   "source": [
    "test_data.drop(['Consumer-complaint-summary'], axis=1,inplace=True)\n",
    "test_data['Complaint-reason'] = pricipal_components[:,1]\n",
    "test_data.isna().any()\n",
    "test_data=test_data.astype('float')"
   ]
  },
  {
   "cell_type": "code",
   "execution_count": 170,
   "metadata": {},
   "outputs": [],
   "source": [
    "lr_test = logisticRegr.predict(test_data)\n",
    "svm_test = svm_clf.predict(test_data)\n",
    "knn_test = knn_model.predict(test_data)\n",
    "rf_test=rf.predict(test_data)"
   ]
  },
  {
   "cell_type": "code",
   "execution_count": 181,
   "metadata": {},
   "outputs": [],
   "source": [
    "submission = pd.read_csv('test.csv')"
   ]
  },
  {
   "cell_type": "code",
   "execution_count": 182,
   "metadata": {},
   "outputs": [],
   "source": [
    "submission.drop(['Date-received','Transaction-Type','Complaint-reason','Company-response','Date-sent-to-company','Consumer-disputes','Consumer-complaint-summary'],axis=1,inplace=True)"
   ]
  },
  {
   "cell_type": "code",
   "execution_count": 200,
   "metadata": {},
   "outputs": [
    {
     "name": "stderr",
     "output_type": "stream",
     "text": [
      "/usr/local/lib/python3.6/dist-packages/sklearn/preprocessing/label.py:151: DeprecationWarning: The truth value of an empty array is ambiguous. Returning False, but in future this will result in an error. Use `array.size > 0` to check that an array is not empty.\n",
      "  if diff:\n"
     ]
    }
   ],
   "source": [
    "xgb_test = xgb.predict(test_data)"
   ]
  },
  {
   "cell_type": "code",
   "execution_count": 201,
   "metadata": {},
   "outputs": [],
   "source": [
    "submission['Complaint-Status'] = xgb_test"
   ]
  },
  {
   "cell_type": "code",
   "execution_count": 202,
   "metadata": {},
   "outputs": [
    {
     "name": "stderr",
     "output_type": "stream",
     "text": [
      "/usr/local/lib/python3.6/dist-packages/ipykernel_launcher.py:1: SettingWithCopyWarning: \n",
      "A value is trying to be set on a copy of a slice from a DataFrame\n",
      "\n",
      "See the caveats in the documentation: http://pandas.pydata.org/pandas-docs/stable/indexing.html#indexing-view-versus-copy\n",
      "  \"\"\"Entry point for launching an IPython kernel.\n"
     ]
    }
   ],
   "source": [
    "submission['Complaint-Status'][submission['Complaint-Status'] == 5] = 'Closed with explanation'\n",
    "submission['Complaint-Status'][submission['Complaint-Status'] == 4] = 'Closed with non-monetary relief'\n",
    "submission['Complaint-Status'][submission['Complaint-Status'] == 3] = 'Closed with monetary relief'\n",
    "submission['Complaint-Status'][submission['Complaint-Status'] == 2] = 'Closed'\n",
    "submission['Complaint-Status'][submission['Complaint-Status'] == 1] = 'Untimely response'"
   ]
  },
  {
   "cell_type": "code",
   "execution_count": 203,
   "metadata": {},
   "outputs": [],
   "source": [
    "submission.to_csv('submit.csv')"
   ]
  },
  {
   "cell_type": "code",
   "execution_count": null,
   "metadata": {},
   "outputs": [],
   "source": []
  }
 ],
 "metadata": {
  "kernelspec": {
   "display_name": "Python 3",
   "language": "python",
   "name": "python3"
  },
  "language_info": {
   "codemirror_mode": {
    "name": "ipython",
    "version": 3
   },
   "file_extension": ".py",
   "mimetype": "text/x-python",
   "name": "python",
   "nbconvert_exporter": "python",
   "pygments_lexer": "ipython3",
   "version": "3.6.6"
  }
 },
 "nbformat": 4,
 "nbformat_minor": 2
}
